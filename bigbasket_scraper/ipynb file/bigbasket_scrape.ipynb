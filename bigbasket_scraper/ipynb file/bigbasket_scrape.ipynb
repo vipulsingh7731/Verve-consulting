{
 "cells": [
  {
   "cell_type": "code",
   "execution_count": 17,
   "metadata": {},
   "outputs": [],
   "source": [
    "import requests\n",
    "from bs4 import BeautifulSoup\n",
    "# to use webdriver you need chromedriver.exe in the same folder as the .py script\n",
    "from selenium import webdriver\n",
    "import time\n",
    "import os\n",
    "import csv\n",
    "from datetime import date\n",
    "import random\n",
    "from pikepdf import Pdf as PDF\n",
    "from selenium.webdriver.common.by import By\n",
    "# returns list of links of all pdf on a page\n",
    "\n",
    "def get_soup_from_BeautifulSoup(url=\"https://www.google.com/search\", params= None, *headers):\n",
    "    response = requests.get(url, params=params, headers=headers )\n",
    "    soup = BeautifulSoup(response.text, 'lxml')\n",
    "    # with open(\"test.html\", mode=\"w+\", encoding='utf-8') as f:\n",
    "    #     f.write(soup.prettify())\n",
    "    #     f.close()\n",
    "    return BeautifulSoup(response.text, 'lxml')\n",
    "# using Beautiful Soup\n",
    "# The main content of google search\n",
    "# Selenium Implementation\n",
    "\n",
    "def get_html_source(url):\n",
    "    browser = webdriver.Chrome()\n",
    "    # get web page\n",
    "    browser.get(url)\n",
    "    # area_select = browser.find_element_by_id(id_=\"areaselect\")\n",
    "    # execute script to scroll down the page\n",
    "    time.sleep(40)\n",
    "    show_more_button = browser.find_element(By.CSS_SELECTOR, 'button[ng-click=\"vm.pagginator.showmorepage()\"]')\n",
    "    while True:\n",
    "        try:\n",
    "            for i in range(0,200):\n",
    "                browser.execute_script(\"window.scrollTo(0, 7/9*document.body.scrollHeight);var lenOfPage=document.body.scrollHeight;return lenOfPage;\")\n",
    "                show_more_button.click()\n",
    "        except:\n",
    "            break\n",
    "    time.sleep(10)\n",
    "    # print(len(show_more_button))\n",
    "    # for item in range(0,10):\n",
    "    # with open(\"test.html\", mode=\"w+\", encoding='utf-8') as f:\n",
    "    #     f.write(soup.prettify())\n",
    "    #     f.close()\n",
    "    # sleep for time\n",
    "    return browser.page_source\n",
    "\n",
    "# def get_google_url(params):\n",
    "#     params_key, params_value = list(params.keys()),list(params.values())\n",
    "#     url = f\"https://www.google.com/search?\"\n",
    "#     for i in range(len(params)):\n",
    "#         url = url + params_key[i] + \"=\" + str(params_value[i]).replace(\" \", \"+\")+ \"&\"\n",
    "#     return url\n",
    "\n",
    "\n",
    "# --------------------------------------------------"
   ]
  },
  {
   "cell_type": "code",
   "execution_count": 18,
   "metadata": {},
   "outputs": [],
   "source": [
    "soup = BeautifulSoup(get_html_source(url=\"https://www.bigbasket.com/cl/fruits-vegetables/\"),\"lxml\")\n"
   ]
  },
  {
   "cell_type": "code",
   "execution_count": 27,
   "metadata": {},
   "outputs": [
    {
     "name": "stdout",
     "output_type": "stream",
     "text": [
      "537 no. of elements stored\n",
      "[{'name': 'Onion', 'weight': '1 kg', 'price': 38.38}, {'name': 'Tomato - Local', 'weight': '1 kg', 'price': 55.0}, {'name': 'Carrot - Orange', 'weight': '1 kg', 'price': 90.9}, {'name': 'Tomato - Hybrid', 'weight': '1 kg', 'price': 51.0}, {'name': 'Ladies Finger', 'weight': '1 kg', 'price': 89.0}, {'name': 'Cucumber', 'weight': '1 kg', 'price': 18.18}, {'name': 'Banana - Yelakki', 'weight': '1 kg', 'price': 46.46}, {'name': 'Coriander Leaves', 'weight': '1 kg', 'price': 70.7}, {'name': 'Orange - Nagpur, Regular', 'weight': '1 kg', 'price': 72.0}, {'name': 'Mushrooms - Button', 'weight': '1 pack', 'price': 42.42}, {'name': 'Beans - Haricot', 'weight': '1 kg', 'price': 52.0}, {'name': 'Capsicum - Green', 'weight': '1 kg', 'price': 90.9}, {'name': 'Palak - Cleaned, without roots', 'weight': '1 kg', 'price': 64.0}, {'name': 'Potato - New Crop', 'weight': '1 kg', 'price': 46.0}, {'name': 'Onion - Organically Grown', 'weight': '1 kg', 'price': 50.0}, {'name': 'Lemon', 'weight': '1 kg', 'price': 60.0}, {'name': 'Cabbage', 'weight': '1 pc', 'price': 55.0}, {'name': 'Apple - Shimla', 'weight': '4 pcs', 'price': 125.0}, {'name': 'Coconut - Medium', 'weight': '1 pc', 'price': 24.24}, {'name': 'Tender Coconut - Medium', 'weight': '1 pc', 'price': 30.0}, {'name': 'Tomato - Local, Organically Grown', 'weight': '1 kg', 'price': 76.0}, {'name': 'Banana - Robusta', 'weight': '1 kg', 'price': 26.0}, {'name': 'Ginger', 'weight': '1 kg', 'price': 30.299999999999997}, {'name': 'Beetroot', 'weight': '1 kg', 'price': 88.88}, {'name': 'Baby Apple Shimla', 'weight': '1 kg', 'price': 159.0}, {'name': 'Pomegranate', 'weight': '4 pcs', 'price': 146.45}, {'name': 'Chilli - Green, Organically Grown', 'weight': '1 kg', 'price': 180.0}, {'name': 'Sweet Corn', 'weight': '2 pcs', 'price': 36.0}, {'name': 'Methi/Venthaya Keerai - Cleaned, without roots', 'weight': '1 kg', 'price': 75.0}, {'name': 'Ginger - Organically Grown', 'weight': '1 kg', 'price': 42.0}, {'name': 'Mint Leaves - Cleaned, without roots', 'weight': '1 kg', 'price': 90.0}, {'name': 'Brinjal - Bottle Shape', 'weight': '1 kg', 'price': 74.74}, {'name': 'Chilli - Green Long, Medium', 'weight': '1 kg', 'price': 115.0}, {'name': 'Spring Onion - With roots', 'weight': '1 kg', 'price': 90.89999999999999}, {'name': 'Cucumber - English', 'weight': '1 kg', 'price': 48.0}, {'name': 'Garlic', 'weight': '1 kg', 'price': 109.08}, {'name': 'Kiwi - Green', 'weight': '3 pcs', 'price': 49.0}, {'name': 'Ridge Gourd', 'weight': '1 kg', 'price': 60.6}, {'name': 'Banana - Yelakki, Organically Grown', 'weight': '1 kg', 'price': 48.0}, {'name': 'Cucumber - Organically Grown', 'weight': '1 kg', 'price': 32.0}, {'name': 'Banana - Nendran', 'weight': '1 kg', 'price': 62.0}, {'name': 'Curry Leaves', 'weight': '1 kg', 'price': 120.0}, {'name': 'Onion - Sambhar', 'weight': '1 kg', 'price': 105.6}, {'name': 'Beans - Broad', 'weight': '1 kg', 'price': 88.0}, {'name': 'Beans - Organically Grown', 'weight': '1 kg', 'price': 64.0}, {'name': 'Guava', 'weight': '1 kg', 'price': 52.52}, {'name': 'Cauliflower', 'weight': '1 pc', 'price': 38.0}, {'name': 'Watermelon  - Small', 'weight': '1 pc', 'price': 115.0}, {'name': 'Colocasia', 'weight': '1 kg', 'price': 56.0}, {'name': 'Bottle Gourd', 'weight': '1 pc', 'price': 40.4}, {'name': 'Chow Chow', 'weight': '1 kg', 'price': 32.0}, {'name': 'Papaya - Medium', 'weight': '1 pc', 'price': 52.0}, {'name': 'Bitter Gourd', 'weight': '1 kg', 'price': 68.0}, {'name': 'Sweet Potato', 'weight': '1 kg', 'price': 44.0}, {'name': 'Carrot - Ooty', 'weight': '1 kg', 'price': 139.0}, {'name': 'Apple - Red Delicious, Regular', 'weight': '4 pcs', 'price': 139.38}, {'name': 'Green Peas', 'weight': '1 kg', 'price': 56.0}, {'name': 'Lemon - Organically Grown', 'weight': '4 pcs', 'price': 22.0}, {'name': 'Beans - Cowpea', 'weight': '1 kg', 'price': 82.0}, {'name': 'Apple - Royal Gala Economy', 'weight': '4 pcs', 'price': 175.0}, {'name': 'Pomegranate - Small', 'weight': '1 kg', 'price': 146.45}, {'name': 'Parwal', 'weight': '1 kg', 'price': 179.78}, {'name': 'Amla', 'weight': '1 kg', 'price': 132.0}, {'name': 'Coccinia', 'weight': '1 kg', 'price': 64.0}, {'name': 'Orange - Imported', 'weight': '4 pcs', 'price': 199.0}, {'name': 'Mosambi - Economy', 'weight': '1 kg', 'price': 48.0}, {'name': 'Garlic - Peeled', 'weight': '1 kg', 'price': 370.0}, {'name': 'Apple - Royal Gala, Regular', 'weight': '4 pcs', 'price': 146.45}, {'name': 'Kiwi - Green', 'weight': '3 pcs', 'price': 49.0}, {'name': 'Ridge Gourd', 'weight': '1 kg', 'price': 60.6}, {'name': 'Banana - Yelakki, Organically Grown', 'weight': '1 kg', 'price': 48.0}, {'name': 'Cucumber - Organically Grown', 'weight': '1 kg', 'price': 32.0}, {'name': 'Banana - Nendran', 'weight': '1 kg', 'price': 62.0}, {'name': 'Curry Leaves', 'weight': '1 kg', 'price': 120.0}, {'name': 'Onion - Sambhar', 'weight': '1 kg', 'price': 105.6}, {'name': 'Beans - Broad', 'weight': '1 kg', 'price': 88.0}, {'name': 'Beans - Organically Grown', 'weight': '1 kg', 'price': 64.0}, {'name': 'Guava', 'weight': '1 kg', 'price': 52.52}, {'name': 'Cauliflower', 'weight': '1 pc', 'price': 38.0}, {'name': 'Watermelon  - Small', 'weight': '1 pc', 'price': 115.0}, {'name': 'Colocasia', 'weight': '1 kg', 'price': 56.0}, {'name': 'Bottle Gourd', 'weight': '1 pc', 'price': 40.4}, {'name': 'Chow Chow', 'weight': '1 kg', 'price': 32.0}, {'name': 'Papaya - Medium', 'weight': '1 pc', 'price': 52.0}, {'name': 'Bitter Gourd', 'weight': '1 kg', 'price': 68.0}, {'name': 'Sweet Potato', 'weight': '1 kg', 'price': 44.0}, {'name': 'Carrot - Ooty', 'weight': '1 kg', 'price': 139.0}, {'name': 'Apple - Red Delicious, Regular', 'weight': '4 pcs', 'price': 139.38}, {'name': 'Green Peas', 'weight': '1 kg', 'price': 56.0}, {'name': 'Lemon - Organically Grown', 'weight': '4 pcs', 'price': 22.0}, {'name': 'Beans - Cowpea', 'weight': '1 kg', 'price': 82.0}, {'name': 'Apple - Royal Gala Economy', 'weight': '4 pcs', 'price': 175.0}, {'name': 'Pomegranate - Small', 'weight': '1 kg', 'price': 146.45}, {'name': 'Parwal', 'weight': '1 kg', 'price': 179.78}, {'name': 'Amla', 'weight': '1 kg', 'price': 132.0}, {'name': 'Coccinia', 'weight': '1 kg', 'price': 64.0}, {'name': 'Orange - Imported', 'weight': '4 pcs', 'price': 199.0}, {'name': 'Mosambi - Economy', 'weight': '1 kg', 'price': 48.0}, {'name': 'Garlic - Peeled', 'weight': '1 kg', 'price': 370.0}, {'name': 'Apple - Royal Gala, Regular', 'weight': '4 pcs', 'price': 146.45}, {'name': 'Papaya - Organically Grown', 'weight': '1 pc (approx. 500 -1 kg)', 'price': 50.0}, {'name': 'Beans - Cluster', 'weight': '1 kg', 'price': 100.0}, {'name': 'Carrot - Red', 'weight': '1 kg', 'price': 46.4}, {'name': 'Broccoli', 'weight': '1 pc', 'price': 29.29}, {'name': 'Banana - Raw Green', 'weight': '1 kg', 'price': 58.0}, {'name': 'Blueberry', 'weight': '1 kg', 'price': 2141.2}, {'name': 'Sapota', 'weight': '1 kg', 'price': 52.0}, {'name': 'Garlic - Organically Grown', 'weight': '1 kg', 'price': 169.0}, {'name': 'Guava - Thai', 'weight': '1 pc', 'price': 40.0}, {'name': 'Pumpkin Green - Cut', 'weight': '1 kg', 'price': 96.0}, {'name': 'Coconut - Organically Grown', 'weight': '1 pc', 'price': 32.0}, {'name': 'Pumpkin - Organically Grown', 'weight': '1 pc', 'price': 116.0}, {'name': 'Snake Gourd', 'weight': '1 kg', 'price': 56.0}, {'name': 'Apple - Shimla, Premium', 'weight': '4 pcs', 'price': 159.0}, {'name': 'Brinjal - Varikatri', 'weight': '1 kg', 'price': 111.1}, {'name': 'Baby Potato', 'weight': '1 kg', 'price': 38.0}, {'name': 'Drumstick/Moringa', 'weight': '1 kg', 'price': 370.0}, {'name': 'Apple - Royal Gala, Premium', 'weight': '4 pcs(Approx.600 g-700 g)', 'price': 199.0}, {'name': 'Papaya - Raw', 'weight': '1 kg', 'price': 22.0}, {'name': 'Coconut - Large', 'weight': '1 pc', 'price': 34.0}, {'name': 'Pomegranate', 'weight': '2 pcs', 'price': 89.0}, {'name': 'Lettuce - Iceberg', 'weight': '1 pc', 'price': 49.0}, {'name': 'Tomato - Hybrid, Organically Grown', 'weight': '1 kg', 'price': 72.0}, {'name': 'Indian Avocado (Butterfruit)', 'weight': '2 pcs', 'price': 235.0}, {'name': 'Groundnut - Fresh', 'weight': '1 kg', 'price': 98.0}, {'name': 'Amaranthus - Red Cleaned, without roots', 'weight': '1 kg', 'price': 80.0}, {'name': 'Pomegranate - Peeled', 'weight': '1 kg', 'price': 430.0}, {'name': 'Marigold Flower - Orange', 'weight': '1 kg', 'price': 80.0}, {'name': 'Orange - Kinnow', 'weight': '1 kg', 'price': 69.0}, {'name': 'Pear Beauty', 'weight': '2 pcs', 'price': 135.0}, {'name': 'Cut Roses Flower', 'weight': '1 kg', 'price': 149.0}, {'name': 'Grapes - Bangalore Blue with Seed', 'weight': '1 kg', 'price': 58.0}, {'name': 'Pineapple', 'weight': '1 pc', 'price': 44.0}, {'name': 'Betel Leaf', 'weight': '5 pcs', 'price': 8.0}, {'name': 'Banana - Red', 'weight': '1 kg', 'price': 70.7}, {'name': 'Capsicum - Red', 'weight': '2 pcs', 'price': 110.0}, {'name': 'Dates - Kimia, with Seed', 'weight': '1 pc', 'price': 159.0}, {'name': 'Pomegranate', 'weight': '6 pcs', 'price': 235.0}, {'name': 'Chrysanthemum/Shevanti Flower', 'weight': '1 kg', 'price': 280.0}, {'name': 'Bottle Gourd - Organically Grown', 'weight': '1 pc', 'price': 58.0}, {'name': 'Mosambi', 'weight': '4 pcs', 'price': 52.52}, {'name': 'Tender Coconut - Small', 'weight': '1 pc', 'price': 29.0}, {'name': 'Muskmelon - Organically Grown', 'weight': '1 pc', 'price': 85.0}, {'name': 'Knol Khol', 'weight': '1 kg', 'price': 40.0}, {'name': 'Gongura Leaves/Pulicha - Cleaned, without roots', 'weight': '1 kg', 'price': 56.0}, {'name': 'Apple - Ambri', 'weight': '1 kg', 'price': 190.0}, {'name': 'Cut Cauliflower, Washed', 'weight': '1 kg', 'price': 203.33333333333334}, {'name': 'Passion Fruit', 'weight': '1 kg', 'price': 279.0}, {'name': 'Marigold Flower - Yellow', 'weight': '1 kg', 'price': 96.0}, {'name': 'Ash Gourd - Cut', 'weight': '1 kg', 'price': 100.0}, {'name': 'Apple - Red Delicious, Premium', 'weight': '4 pcs', 'price': 179.0}, {'name': 'Sweet Potato - Organically Grown', 'weight': '1 kg', 'price': 66.0}, {'name': 'Chow Chow - Organically Grown', 'weight': '1 kg', 'price': 46.0}, {'name': 'Baby Corn - Peeled', 'weight': '1 kg', 'price': 181.8}, {'name': 'Mint - Organically Grown', 'weight': '1 kg', 'price': 100.0}, {'name': 'Mosambi - Organically Grown', 'weight': '1 kg', 'price': 69.0}, {'name': 'Sambar Onion - Peeled (Small Onion)', 'weight': '1 kg', 'price': 195.0}, {'name': 'Apple - Fuji, Regular', 'weight': '4 Pcs (Approx.500g-650g)', 'price': 199.0}, {'name': 'Bitter Gourd - Organically Grown', 'weight': '1 kg', 'price': 89.0}, {'name': 'Organic Sprouts Mixed Gram', 'weight': '1 kg', 'price': 115.0}, {'name': 'Radish - White', 'weight': '1 kg', 'price': 32.0}, {'name': 'Arai Keerai', 'weight': '1 kg', 'price': 76.0}, {'name': 'Pear - Green, Imported', 'weight': '4 pcs', 'price': 199.0}, {'name': 'Capsicum - Yellow', 'weight': '2 pcs', 'price': 115.0}, {'name': 'Dill Leaves', 'weight': '1 kg', 'price': 75.0}, {'name': 'Capsicum - Green, Organically Grown', 'weight': '1 kg', 'price': 124.0}, {'name': 'Dry Copra/Coconut', 'weight': '1 pc', 'price': 89.0}, {'name': 'Fresh Figs', 'weight': '1 kg', 'price': 176.0}, {'name': 'Yam - Cut', 'weight': '1 kg', 'price': 124.0}, {'name': 'Persimmon /Amarphal', 'weight': '1 kg', 'price': 338.0}, {'name': 'Dragon Fruit', 'weight': '1 pc', 'price': 109.0}, {'name': 'Pineapple - Slices', 'weight': '1 kg', 'price': 240.0}, {'name': 'Kiwi - Green', 'weight': '3 pcs', 'price': 49.0}, {'name': 'Ridge Gourd', 'weight': '1 kg', 'price': 60.6}, {'name': 'Banana - Yelakki, Organically Grown', 'weight': '1 kg', 'price': 48.0}, {'name': 'Cucumber - Organically Grown', 'weight': '1 kg', 'price': 32.0}, {'name': 'Banana - Nendran', 'weight': '1 kg', 'price': 62.0}, {'name': 'Curry Leaves', 'weight': '1 kg', 'price': 120.0}, {'name': 'Onion - Sambhar', 'weight': '1 kg', 'price': 105.6}, {'name': 'Beans - Broad', 'weight': '1 kg', 'price': 88.0}, {'name': 'Beans - Organically Grown', 'weight': '1 kg', 'price': 64.0}, {'name': 'Guava', 'weight': '1 kg', 'price': 52.52}, {'name': 'Cauliflower', 'weight': '1 pc', 'price': 38.0}, {'name': 'Watermelon  - Small', 'weight': '1 pc', 'price': 115.0}, {'name': 'Colocasia', 'weight': '1 kg', 'price': 56.0}, {'name': 'Bottle Gourd', 'weight': '1 pc', 'price': 40.4}, {'name': 'Chow Chow', 'weight': '1 kg', 'price': 32.0}, {'name': 'Papaya - Medium', 'weight': '1 pc', 'price': 52.0}, {'name': 'Bitter Gourd', 'weight': '1 kg', 'price': 68.0}, {'name': 'Sweet Potato', 'weight': '1 kg', 'price': 44.0}, {'name': 'Carrot - Ooty', 'weight': '1 kg', 'price': 139.0}, {'name': 'Apple - Red Delicious, Regular', 'weight': '4 pcs', 'price': 139.38}, {'name': 'Green Peas', 'weight': '1 kg', 'price': 56.0}, {'name': 'Lemon - Organically Grown', 'weight': '4 pcs', 'price': 22.0}, {'name': 'Beans - Cowpea', 'weight': '1 kg', 'price': 82.0}, {'name': 'Apple - Royal Gala Economy', 'weight': '4 pcs', 'price': 175.0}, {'name': 'Pomegranate - Small', 'weight': '1 kg', 'price': 146.45}, {'name': 'Parwal', 'weight': '1 kg', 'price': 179.78}, {'name': 'Amla', 'weight': '1 kg', 'price': 132.0}, {'name': 'Coccinia', 'weight': '1 kg', 'price': 64.0}, {'name': 'Orange - Imported', 'weight': '4 pcs', 'price': 199.0}, {'name': 'Mosambi - Economy', 'weight': '1 kg', 'price': 48.0}, {'name': 'Garlic - Peeled', 'weight': '1 kg', 'price': 370.0}, {'name': 'Apple - Royal Gala, Regular', 'weight': '4 pcs', 'price': 146.45}, {'name': 'Dates - Kimia, with Seed', 'weight': '1 pc', 'price': 159.0}, {'name': 'Pomegranate', 'weight': '6 pcs', 'price': 235.0}, {'name': 'Chrysanthemum/Shevanti Flower', 'weight': '1 kg', 'price': 280.0}, {'name': 'Bottle Gourd - Organically Grown', 'weight': '1 pc', 'price': 58.0}, {'name': 'Mosambi', 'weight': '4 pcs', 'price': 52.52}, {'name': 'Tender Coconut - Small', 'weight': '1 pc', 'price': 29.0}, {'name': 'Muskmelon - Organically Grown', 'weight': '1 pc', 'price': 85.0}, {'name': 'Knol Khol', 'weight': '1 kg', 'price': 40.0}, {'name': 'Gongura Leaves/Pulicha - Cleaned, without roots', 'weight': '1 kg', 'price': 56.0}, {'name': 'Apple - Ambri', 'weight': '1 kg', 'price': 190.0}, {'name': 'Cut Cauliflower, Washed', 'weight': '1 kg', 'price': 203.33333333333334}, {'name': 'Passion Fruit', 'weight': '1 kg', 'price': 279.0}, {'name': 'Marigold Flower - Yellow', 'weight': '1 kg', 'price': 96.0}, {'name': 'Ash Gourd - Cut', 'weight': '1 kg', 'price': 100.0}, {'name': 'Apple - Red Delicious, Premium', 'weight': '4 pcs', 'price': 179.0}, {'name': 'Sweet Potato - Organically Grown', 'weight': '1 kg', 'price': 66.0}, {'name': 'Chow Chow - Organically Grown', 'weight': '1 kg', 'price': 46.0}, {'name': 'Baby Corn - Peeled', 'weight': '1 kg', 'price': 181.8}, {'name': 'Mint - Organically Grown', 'weight': '1 kg', 'price': 100.0}, {'name': 'Mosambi - Organically Grown', 'weight': '1 kg', 'price': 69.0}, {'name': 'Sambar Onion - Peeled (Small Onion)', 'weight': '1 kg', 'price': 195.0}, {'name': 'Apple - Fuji, Regular', 'weight': '4 Pcs (Approx.500g-650g)', 'price': 199.0}, {'name': 'Bitter Gourd - Organically Grown', 'weight': '1 kg', 'price': 89.0}, {'name': 'Organic Sprouts Mixed Gram', 'weight': '1 kg', 'price': 115.0}, {'name': 'Radish - White', 'weight': '1 kg', 'price': 32.0}, {'name': 'Arai Keerai', 'weight': '1 kg', 'price': 76.0}, {'name': 'Pear - Green, Imported', 'weight': '4 pcs', 'price': 199.0}, {'name': 'Capsicum - Yellow', 'weight': '2 pcs', 'price': 115.0}, {'name': 'Dill Leaves', 'weight': '1 kg', 'price': 75.0}, {'name': 'Capsicum - Green, Organically Grown', 'weight': '1 kg', 'price': 124.0}, {'name': 'Dry Copra/Coconut', 'weight': '1 pc', 'price': 89.0}, {'name': 'Fresh Figs', 'weight': '1 kg', 'price': 176.0}, {'name': 'Yam - Cut', 'weight': '1 kg', 'price': 124.0}, {'name': 'Persimmon /Amarphal', 'weight': '1 kg', 'price': 338.0}, {'name': 'Dragon Fruit', 'weight': '1 pc', 'price': 109.0}, {'name': 'Pineapple - Slices', 'weight': '1 kg', 'price': 240.0}, {'name': 'Apricot - Dried', 'weight': '1 kg', 'price': 1125.0}, {'name': 'Baby Corn - Unpeeled', 'weight': '1 kg', 'price': 60.0}, {'name': 'Banana - Poovan', 'weight': '1 kg', 'price': 38.0}, {'name': 'Grapes- Green Seedless, Sonaka', 'weight': '1 kg', 'price': 118.0}, {'name': 'Banana Stem - Organically Grown', 'weight': '1 pc', 'price': 20.0}, {'name': 'Chilli - Bajji, Mild', 'weight': '1 kg', 'price': 100.0}, {'name': 'Fresh Turmeric - Organically Grown', 'weight': '1 kg', 'price': 160.0}, {'name': 'Pumpkin - Disco', 'weight': '1 pc', 'price': 39.0}, {'name': 'Palak - Organically Grown', 'weight': '1 kg', 'price': 92.0}, {'name': 'Sambar Onion - Organically Grown', 'weight': '1 kg', 'price': 88.0}, {'name': 'Lettuce - Green', 'weight': '70 to 100 gm (Bunch)', 'price': 24.0}, {'name': 'Wood Apple - Kothbel', 'weight': '1 pc', 'price': 11.0}, {'name': 'Brinjal - Green, Long', 'weight': '1 kg', 'price': 110.0}, {'name': 'Banana Flower - Organically Grown', 'weight': '1 pc', 'price': 20.0}, {'name': 'Organic Sprouts Moong Green', 'weight': '1 kg', 'price': 145.0}, {'name': 'Banana Leaf', 'weight': '5 pcs', 'price': 28.0}, {'name': 'Banana - Karpooravalli', 'weight': '1 kg', 'price': 46.0}, {'name': 'Coconut - Diced', 'weight': '1 kg', 'price': 226.66666666666666}, {'name': 'Spinach - Chopped', 'weight': '1 kg', 'price': 132.0}, {'name': 'Snake Gourd - Organically Grown', 'weight': '1 kg', 'price': 56.0}, {'name': 'Longan', 'weight': '1 kg', 'price': 332.0}, {'name': 'Broccoli - Florets', 'weight': '1 kg', 'price': 490.0}, {'name': 'Amaranthus - Green Cleaned, without roots', 'weight': '1 kg', 'price': 80.0}, {'name': 'Mosambi - Premium', 'weight': '4 pcs', 'price': 65.0}, {'name': 'Muskmelon -  Netted Small', 'weight': '1 pc', 'price': 85.0}, {'name': 'Methi - Chopped', 'weight': '1 kg', 'price': 145.0}, {'name': 'Mustard Leaves (Sarso Saag)', 'weight': '1 kg', 'price': 76.0}, {'name': 'Yam - Sliced', 'weight': '1 kg', 'price': 140.0}, {'name': 'Ridge Gourd - Organically Grown', 'weight': '1 kg', 'price': 130.0}, {'name': 'Pineapple - Organically Grown', 'weight': '1 pc(approx.400 -1.2 k)', 'price': 52.0}, {'name': 'Tapioca', 'weight': '1 kg', 'price': 44.0}, {'name': 'Strawberry', 'weight': '1 kg', 'price': 495.0}, {'name': 'Zucchini - Green', 'weight': '2 pcs Approx (300-400g)', 'price': 119.0}, {'name': 'Papaya - Organically Grown', 'weight': '1 pc (approx. 500 -1 kg)', 'price': 50.0}, {'name': 'Beans - Cluster', 'weight': '1 kg', 'price': 100.0}, {'name': 'Carrot - Red', 'weight': '1 kg', 'price': 46.4}, {'name': 'Broccoli', 'weight': '1 pc', 'price': 29.29}, {'name': 'Banana - Raw Green', 'weight': '1 kg', 'price': 58.0}, {'name': 'Blueberry', 'weight': '1 kg', 'price': 2141.2}, {'name': 'Sapota', 'weight': '1 kg', 'price': 52.0}, {'name': 'Garlic - Organically Grown', 'weight': '1 kg', 'price': 169.0}, {'name': 'Guava - Thai', 'weight': '1 pc', 'price': 40.0}, {'name': 'Pumpkin Green - Cut', 'weight': '1 kg', 'price': 96.0}, {'name': 'Coconut - Organically Grown', 'weight': '1 pc', 'price': 32.0}, {'name': 'Pumpkin - Organically Grown', 'weight': '1 pc', 'price': 116.0}, {'name': 'Snake Gourd', 'weight': '1 kg', 'price': 56.0}, {'name': 'Apple - Shimla, Premium', 'weight': '4 pcs', 'price': 159.0}, {'name': 'Brinjal - Varikatri', 'weight': '1 kg', 'price': 111.1}, {'name': 'Baby Potato', 'weight': '1 kg', 'price': 38.0}, {'name': 'Drumstick/Moringa', 'weight': '1 kg', 'price': 370.0}, {'name': 'Apple - Royal Gala, Premium', 'weight': '4 pcs(Approx.600 g-700 g)', 'price': 199.0}, {'name': 'Papaya - Raw', 'weight': '1 kg', 'price': 22.0}, {'name': 'Coconut - Large', 'weight': '1 pc', 'price': 34.0}, {'name': 'Pomegranate', 'weight': '2 pcs', 'price': 89.0}, {'name': 'Lettuce - Iceberg', 'weight': '1 pc', 'price': 49.0}, {'name': 'Tomato - Hybrid, Organically Grown', 'weight': '1 kg', 'price': 72.0}, {'name': 'Indian Avocado (Butterfruit)', 'weight': '2 pcs', 'price': 235.0}, {'name': 'Groundnut - Fresh', 'weight': '1 kg', 'price': 98.0}, {'name': 'Amaranthus - Red Cleaned, without roots', 'weight': '1 kg', 'price': 80.0}, {'name': 'Pomegranate - Peeled', 'weight': '1 kg', 'price': 430.0}, {'name': 'Marigold Flower - Orange', 'weight': '1 kg', 'price': 80.0}, {'name': 'Orange - Kinnow', 'weight': '1 kg', 'price': 69.0}, {'name': 'Pear Beauty', 'weight': '2 pcs', 'price': 135.0}, {'name': 'Cut Roses Flower', 'weight': '1 kg', 'price': 149.0}, {'name': 'Grapes - Bangalore Blue with Seed', 'weight': '1 kg', 'price': 58.0}, {'name': 'Pineapple', 'weight': '1 pc', 'price': 44.0}, {'name': 'Betel Leaf', 'weight': '5 pcs', 'price': 8.0}, {'name': 'Banana - Red', 'weight': '1 kg', 'price': 70.7}, {'name': 'Capsicum - Red', 'weight': '2 pcs', 'price': 110.0}, {'name': 'Kiwi - Green', 'weight': '3 pcs', 'price': 49.0}, {'name': 'Ridge Gourd', 'weight': '1 kg', 'price': 60.6}, {'name': 'Banana - Yelakki, Organically Grown', 'weight': '1 kg', 'price': 48.0}, {'name': 'Cucumber - Organically Grown', 'weight': '1 kg', 'price': 32.0}, {'name': 'Banana - Nendran', 'weight': '1 kg', 'price': 62.0}, {'name': 'Curry Leaves', 'weight': '1 kg', 'price': 120.0}, {'name': 'Onion - Sambhar', 'weight': '1 kg', 'price': 105.6}, {'name': 'Beans - Broad', 'weight': '1 kg', 'price': 88.0}, {'name': 'Beans - Organically Grown', 'weight': '1 kg', 'price': 64.0}, {'name': 'Guava', 'weight': '1 kg', 'price': 52.52}, {'name': 'Cauliflower', 'weight': '1 pc', 'price': 38.0}, {'name': 'Watermelon  - Small', 'weight': '1 pc', 'price': 115.0}, {'name': 'Colocasia', 'weight': '1 kg', 'price': 56.0}, {'name': 'Bottle Gourd', 'weight': '1 pc', 'price': 40.4}, {'name': 'Chow Chow', 'weight': '1 kg', 'price': 32.0}, {'name': 'Papaya - Medium', 'weight': '1 pc', 'price': 52.0}, {'name': 'Bitter Gourd', 'weight': '1 kg', 'price': 68.0}, {'name': 'Sweet Potato', 'weight': '1 kg', 'price': 44.0}, {'name': 'Carrot - Ooty', 'weight': '1 kg', 'price': 139.0}, {'name': 'Apple - Red Delicious, Regular', 'weight': '4 pcs', 'price': 139.38}, {'name': 'Green Peas', 'weight': '1 kg', 'price': 56.0}, {'name': 'Lemon - Organically Grown', 'weight': '4 pcs', 'price': 22.0}, {'name': 'Beans - Cowpea', 'weight': '1 kg', 'price': 82.0}, {'name': 'Apple - Royal Gala Economy', 'weight': '4 pcs', 'price': 175.0}, {'name': 'Pomegranate - Small', 'weight': '1 kg', 'price': 146.45}, {'name': 'Parwal', 'weight': '1 kg', 'price': 179.78}, {'name': 'Amla', 'weight': '1 kg', 'price': 132.0}, {'name': 'Coccinia', 'weight': '1 kg', 'price': 64.0}, {'name': 'Orange - Imported', 'weight': '4 pcs', 'price': 199.0}, {'name': 'Mosambi - Economy', 'weight': '1 kg', 'price': 48.0}, {'name': 'Garlic - Peeled', 'weight': '1 kg', 'price': 370.0}, {'name': 'Apple - Royal Gala, Regular', 'weight': '4 pcs', 'price': 146.45}, {'name': 'Papaya - Organically Grown', 'weight': '1 pc (approx. 500 -1 kg)', 'price': 50.0}, {'name': 'Beans - Cluster', 'weight': '1 kg', 'price': 100.0}, {'name': 'Carrot - Red', 'weight': '1 kg', 'price': 46.4}, {'name': 'Broccoli', 'weight': '1 pc', 'price': 29.29}, {'name': 'Banana - Raw Green', 'weight': '1 kg', 'price': 58.0}, {'name': 'Blueberry', 'weight': '1 kg', 'price': 2141.2}, {'name': 'Sapota', 'weight': '1 kg', 'price': 52.0}, {'name': 'Garlic - Organically Grown', 'weight': '1 kg', 'price': 169.0}, {'name': 'Guava - Thai', 'weight': '1 pc', 'price': 40.0}, {'name': 'Pumpkin Green - Cut', 'weight': '1 kg', 'price': 96.0}, {'name': 'Coconut - Organically Grown', 'weight': '1 pc', 'price': 32.0}, {'name': 'Pumpkin - Organically Grown', 'weight': '1 pc', 'price': 116.0}, {'name': 'Snake Gourd', 'weight': '1 kg', 'price': 56.0}, {'name': 'Apple - Shimla, Premium', 'weight': '4 pcs', 'price': 159.0}, {'name': 'Brinjal - Varikatri', 'weight': '1 kg', 'price': 111.1}, {'name': 'Baby Potato', 'weight': '1 kg', 'price': 38.0}, {'name': 'Drumstick/Moringa', 'weight': '1 kg', 'price': 370.0}, {'name': 'Apple - Royal Gala, Premium', 'weight': '4 pcs(Approx.600 g-700 g)', 'price': 199.0}, {'name': 'Papaya - Raw', 'weight': '1 kg', 'price': 22.0}, {'name': 'Coconut - Large', 'weight': '1 pc', 'price': 34.0}, {'name': 'Pomegranate', 'weight': '2 pcs', 'price': 89.0}, {'name': 'Lettuce - Iceberg', 'weight': '1 pc', 'price': 49.0}, {'name': 'Tomato - Hybrid, Organically Grown', 'weight': '1 kg', 'price': 72.0}, {'name': 'Indian Avocado (Butterfruit)', 'weight': '2 pcs', 'price': 235.0}, {'name': 'Groundnut - Fresh', 'weight': '1 kg', 'price': 98.0}, {'name': 'Amaranthus - Red Cleaned, without roots', 'weight': '1 kg', 'price': 80.0}, {'name': 'Pomegranate - Peeled', 'weight': '1 kg', 'price': 430.0}, {'name': 'Marigold Flower - Orange', 'weight': '1 kg', 'price': 80.0}, {'name': 'Orange - Kinnow', 'weight': '1 kg', 'price': 69.0}, {'name': 'Pear Beauty', 'weight': '2 pcs', 'price': 135.0}, {'name': 'Cut Roses Flower', 'weight': '1 kg', 'price': 149.0}, {'name': 'Grapes - Bangalore Blue with Seed', 'weight': '1 kg', 'price': 58.0}, {'name': 'Pineapple', 'weight': '1 pc', 'price': 44.0}, {'name': 'Betel Leaf', 'weight': '5 pcs', 'price': 8.0}, {'name': 'Banana - Red', 'weight': '1 kg', 'price': 70.7}, {'name': 'Capsicum - Red', 'weight': '2 pcs', 'price': 110.0}, {'name': 'Kiwi - Green', 'weight': '3 pcs', 'price': 49.0}, {'name': 'Ridge Gourd', 'weight': '1 kg', 'price': 60.6}, {'name': 'Banana - Yelakki, Organically Grown', 'weight': '1 kg', 'price': 48.0}, {'name': 'Cucumber - Organically Grown', 'weight': '1 kg', 'price': 32.0}, {'name': 'Banana - Nendran', 'weight': '1 kg', 'price': 62.0}, {'name': 'Curry Leaves', 'weight': '1 kg', 'price': 120.0}, {'name': 'Onion - Sambhar', 'weight': '1 kg', 'price': 105.6}, {'name': 'Beans - Broad', 'weight': '1 kg', 'price': 88.0}, {'name': 'Beans - Organically Grown', 'weight': '1 kg', 'price': 64.0}, {'name': 'Guava', 'weight': '1 kg', 'price': 52.52}, {'name': 'Cauliflower', 'weight': '1 pc', 'price': 38.0}, {'name': 'Watermelon  - Small', 'weight': '1 pc', 'price': 115.0}, {'name': 'Colocasia', 'weight': '1 kg', 'price': 56.0}, {'name': 'Bottle Gourd', 'weight': '1 pc', 'price': 40.4}, {'name': 'Chow Chow', 'weight': '1 kg', 'price': 32.0}, {'name': 'Papaya - Medium', 'weight': '1 pc', 'price': 52.0}, {'name': 'Bitter Gourd', 'weight': '1 kg', 'price': 68.0}, {'name': 'Sweet Potato', 'weight': '1 kg', 'price': 44.0}, {'name': 'Carrot - Ooty', 'weight': '1 kg', 'price': 139.0}, {'name': 'Apple - Red Delicious, Regular', 'weight': '4 pcs', 'price': 139.38}, {'name': 'Green Peas', 'weight': '1 kg', 'price': 56.0}, {'name': 'Lemon - Organically Grown', 'weight': '4 pcs', 'price': 22.0}, {'name': 'Beans - Cowpea', 'weight': '1 kg', 'price': 82.0}, {'name': 'Apple - Royal Gala Economy', 'weight': '4 pcs', 'price': 175.0}, {'name': 'Pomegranate - Small', 'weight': '1 kg', 'price': 146.45}, {'name': 'Parwal', 'weight': '1 kg', 'price': 179.78}, {'name': 'Amla', 'weight': '1 kg', 'price': 132.0}, {'name': 'Coccinia', 'weight': '1 kg', 'price': 64.0}, {'name': 'Orange - Imported', 'weight': '4 pcs', 'price': 199.0}, {'name': 'Mosambi - Economy', 'weight': '1 kg', 'price': 48.0}, {'name': 'Garlic - Peeled', 'weight': '1 kg', 'price': 370.0}, {'name': 'Apple - Royal Gala, Regular', 'weight': '4 pcs', 'price': 146.45}, {'name': 'Kiwi - Green', 'weight': '3 pcs', 'price': 49.0}, {'name': 'Ridge Gourd', 'weight': '1 kg', 'price': 60.6}, {'name': 'Banana - Yelakki, Organically Grown', 'weight': '1 kg', 'price': 48.0}, {'name': 'Cucumber - Organically Grown', 'weight': '1 kg', 'price': 32.0}, {'name': 'Banana - Nendran', 'weight': '1 kg', 'price': 62.0}, {'name': 'Curry Leaves', 'weight': '1 kg', 'price': 120.0}, {'name': 'Onion - Sambhar', 'weight': '1 kg', 'price': 105.6}, {'name': 'Beans - Broad', 'weight': '1 kg', 'price': 88.0}, {'name': 'Beans - Organically Grown', 'weight': '1 kg', 'price': 64.0}, {'name': 'Guava', 'weight': '1 kg', 'price': 52.52}, {'name': 'Cauliflower', 'weight': '1 pc', 'price': 38.0}, {'name': 'Watermelon  - Small', 'weight': '1 pc', 'price': 115.0}, {'name': 'Colocasia', 'weight': '1 kg', 'price': 56.0}, {'name': 'Bottle Gourd', 'weight': '1 pc', 'price': 40.4}, {'name': 'Chow Chow', 'weight': '1 kg', 'price': 32.0}, {'name': 'Papaya - Medium', 'weight': '1 pc', 'price': 52.0}, {'name': 'Bitter Gourd', 'weight': '1 kg', 'price': 68.0}, {'name': 'Sweet Potato', 'weight': '1 kg', 'price': 44.0}, {'name': 'Carrot - Ooty', 'weight': '1 kg', 'price': 139.0}, {'name': 'Apple - Red Delicious, Regular', 'weight': '4 pcs', 'price': 139.38}, {'name': 'Green Peas', 'weight': '1 kg', 'price': 56.0}, {'name': 'Lemon - Organically Grown', 'weight': '4 pcs', 'price': 22.0}, {'name': 'Beans - Cowpea', 'weight': '1 kg', 'price': 82.0}, {'name': 'Apple - Royal Gala Economy', 'weight': '4 pcs', 'price': 175.0}, {'name': 'Pomegranate - Small', 'weight': '1 kg', 'price': 146.45}, {'name': 'Parwal', 'weight': '1 kg', 'price': 179.78}, {'name': 'Amla', 'weight': '1 kg', 'price': 132.0}, {'name': 'Coccinia', 'weight': '1 kg', 'price': 64.0}, {'name': 'Orange - Imported', 'weight': '4 pcs', 'price': 199.0}, {'name': 'Mosambi - Economy', 'weight': '1 kg', 'price': 48.0}, {'name': 'Garlic - Peeled', 'weight': '1 kg', 'price': 370.0}, {'name': 'Apple - Royal Gala, Regular', 'weight': '4 pcs', 'price': 146.45}, {'name': 'Kiwi - Green', 'weight': '3 pcs', 'price': 49.0}, {'name': 'Ridge Gourd', 'weight': '1 kg', 'price': 60.6}, {'name': 'Banana - Yelakki, Organically Grown', 'weight': '1 kg', 'price': 48.0}, {'name': 'Cucumber - Organically Grown', 'weight': '1 kg', 'price': 32.0}, {'name': 'Banana - Nendran', 'weight': '1 kg', 'price': 62.0}, {'name': 'Curry Leaves', 'weight': '1 kg', 'price': 120.0}, {'name': 'Onion - Sambhar', 'weight': '1 kg', 'price': 105.6}, {'name': 'Beans - Broad', 'weight': '1 kg', 'price': 88.0}, {'name': 'Beans - Organically Grown', 'weight': '1 kg', 'price': 64.0}, {'name': 'Guava', 'weight': '1 kg', 'price': 52.52}, {'name': 'Cauliflower', 'weight': '1 pc', 'price': 38.0}, {'name': 'Watermelon  - Small', 'weight': '1 pc', 'price': 115.0}, {'name': 'Colocasia', 'weight': '1 kg', 'price': 56.0}, {'name': 'Bottle Gourd', 'weight': '1 pc', 'price': 40.4}, {'name': 'Chow Chow', 'weight': '1 kg', 'price': 32.0}, {'name': 'Papaya - Medium', 'weight': '1 pc', 'price': 52.0}, {'name': 'Bitter Gourd', 'weight': '1 kg', 'price': 68.0}, {'name': 'Sweet Potato', 'weight': '1 kg', 'price': 44.0}, {'name': 'Carrot - Ooty', 'weight': '1 kg', 'price': 139.0}, {'name': 'Apple - Red Delicious, Regular', 'weight': '4 pcs', 'price': 139.38}, {'name': 'Green Peas', 'weight': '1 kg', 'price': 56.0}, {'name': 'Lemon - Organically Grown', 'weight': '4 pcs', 'price': 22.0}, {'name': 'Beans - Cowpea', 'weight': '1 kg', 'price': 82.0}, {'name': 'Apple - Royal Gala Economy', 'weight': '4 pcs', 'price': 175.0}, {'name': 'Pomegranate - Small', 'weight': '1 kg', 'price': 146.45}, {'name': 'Parwal', 'weight': '1 kg', 'price': 179.78}, {'name': 'Amla', 'weight': '1 kg', 'price': 132.0}, {'name': 'Coccinia', 'weight': '1 kg', 'price': 64.0}, {'name': 'Orange - Imported', 'weight': '4 pcs', 'price': 199.0}, {'name': 'Mosambi - Economy', 'weight': '1 kg', 'price': 48.0}, {'name': 'Garlic - Peeled', 'weight': '1 kg', 'price': 370.0}, {'name': 'Apple - Royal Gala, Regular', 'weight': '4 pcs', 'price': 146.45}, {'name': 'Kiwi - Green', 'weight': '3 pcs', 'price': 49.0}, {'name': 'Ridge Gourd', 'weight': '1 kg', 'price': 60.6}, {'name': 'Banana - Yelakki, Organically Grown', 'weight': '1 kg', 'price': 48.0}, {'name': 'Cucumber - Organically Grown', 'weight': '1 kg', 'price': 32.0}, {'name': 'Banana - Nendran', 'weight': '1 kg', 'price': 62.0}, {'name': 'Curry Leaves', 'weight': '1 kg', 'price': 120.0}, {'name': 'Onion - Sambhar', 'weight': '1 kg', 'price': 105.6}, {'name': 'Beans - Broad', 'weight': '1 kg', 'price': 88.0}, {'name': 'Beans - Organically Grown', 'weight': '1 kg', 'price': 64.0}, {'name': 'Guava', 'weight': '1 kg', 'price': 52.52}, {'name': 'Cauliflower', 'weight': '1 pc', 'price': 38.0}, {'name': 'Watermelon  - Small', 'weight': '1 pc', 'price': 115.0}, {'name': 'Colocasia', 'weight': '1 kg', 'price': 56.0}, {'name': 'Bottle Gourd', 'weight': '1 pc', 'price': 40.4}, {'name': 'Chow Chow', 'weight': '1 kg', 'price': 32.0}, {'name': 'Papaya - Medium', 'weight': '1 pc', 'price': 52.0}, {'name': 'Bitter Gourd', 'weight': '1 kg', 'price': 68.0}, {'name': 'Sweet Potato', 'weight': '1 kg', 'price': 44.0}, {'name': 'Carrot - Ooty', 'weight': '1 kg', 'price': 139.0}, {'name': 'Apple - Red Delicious, Regular', 'weight': '4 pcs', 'price': 139.38}, {'name': 'Green Peas', 'weight': '1 kg', 'price': 56.0}, {'name': 'Lemon - Organically Grown', 'weight': '4 pcs', 'price': 22.0}, {'name': 'Beans - Cowpea', 'weight': '1 kg', 'price': 82.0}, {'name': 'Apple - Royal Gala Economy', 'weight': '4 pcs', 'price': 175.0}, {'name': 'Pomegranate - Small', 'weight': '1 kg', 'price': 146.45}, {'name': 'Parwal', 'weight': '1 kg', 'price': 179.78}, {'name': 'Amla', 'weight': '1 kg', 'price': 132.0}, {'name': 'Coccinia', 'weight': '1 kg', 'price': 64.0}, {'name': 'Orange - Imported', 'weight': '4 pcs', 'price': 199.0}, {'name': 'Mosambi - Economy', 'weight': '1 kg', 'price': 48.0}, {'name': 'Garlic - Peeled', 'weight': '1 kg', 'price': 370.0}, {'name': 'Apple - Royal Gala, Regular', 'weight': '4 pcs', 'price': 146.45}, {'name': 'Kiwi - Green', 'weight': '3 pcs', 'price': 49.0}, {'name': 'Ridge Gourd', 'weight': '1 kg', 'price': 60.6}, {'name': 'Banana - Yelakki, Organically Grown', 'weight': '1 kg', 'price': 48.0}, {'name': 'Cucumber - Organically Grown', 'weight': '1 kg', 'price': 32.0}, {'name': 'Banana - Nendran', 'weight': '1 kg', 'price': 62.0}, {'name': 'Curry Leaves', 'weight': '1 kg', 'price': 120.0}, {'name': 'Onion - Sambhar', 'weight': '1 kg', 'price': 105.6}, {'name': 'Beans - Broad', 'weight': '1 kg', 'price': 88.0}, {'name': 'Beans - Organically Grown', 'weight': '1 kg', 'price': 64.0}, {'name': 'Guava', 'weight': '1 kg', 'price': 52.52}, {'name': 'Cauliflower', 'weight': '1 pc', 'price': 38.0}, {'name': 'Watermelon  - Small', 'weight': '1 pc', 'price': 115.0}, {'name': 'Colocasia', 'weight': '1 kg', 'price': 56.0}, {'name': 'Bottle Gourd', 'weight': '1 pc', 'price': 40.4}, {'name': 'Chow Chow', 'weight': '1 kg', 'price': 32.0}, {'name': 'Papaya - Medium', 'weight': '1 pc', 'price': 52.0}, {'name': 'Bitter Gourd', 'weight': '1 kg', 'price': 68.0}, {'name': 'Sweet Potato', 'weight': '1 kg', 'price': 44.0}, {'name': 'Carrot - Ooty', 'weight': '1 kg', 'price': 139.0}, {'name': 'Apple - Red Delicious, Regular', 'weight': '4 pcs', 'price': 139.38}, {'name': 'Green Peas', 'weight': '1 kg', 'price': 56.0}, {'name': 'Lemon - Organically Grown', 'weight': '4 pcs', 'price': 22.0}, {'name': 'Beans - Cowpea', 'weight': '1 kg', 'price': 82.0}, {'name': 'Apple - Royal Gala Economy', 'weight': '4 pcs', 'price': 175.0}, {'name': 'Pomegranate - Small', 'weight': '1 kg', 'price': 146.45}, {'name': 'Parwal', 'weight': '1 kg', 'price': 179.78}, {'name': 'Amla', 'weight': '1 kg', 'price': 132.0}, {'name': 'Coccinia', 'weight': '1 kg', 'price': 64.0}, {'name': 'Orange - Imported', 'weight': '4 pcs', 'price': 199.0}, {'name': 'Mosambi - Economy', 'weight': '1 kg', 'price': 48.0}, {'name': 'Garlic - Peeled', 'weight': '1 kg', 'price': 370.0}, {'name': 'Apple - Royal Gala, Regular', 'weight': '4 pcs', 'price': 146.45}]\n"
     ]
    }
   ],
   "source": [
    "product_list = soup.find_all(attrs={\"qa\": \"product\"})\n",
    "final_data = []\n",
    "pincode = soup.find_all(\"span\", attrs={\"ng-bind\":\"vm.user.currentAddress.address_display_name\"})[0].text\n",
    "for product_div in product_list:\n",
    "    product_name = product_div.find_next(attrs={\"qa\": \"product_name\"})\n",
    "    product_name = product_name.find_next(\"a\").text\n",
    "\n",
    "    weight = product_div.find_next(\"span\",attrs={\"ng-bind\": \"vm.selectedProduct.w\"}).text\n",
    "    price = product_div.find_next(\"span\",attrs={\"class\":\"discnt-price\"}).text\n",
    "    # price = price[3:]\n",
    "    try:\n",
    "        price = float(price)\n",
    "    except :\n",
    "        price = float(price.split(\" \")[-1])\n",
    "    if weight.split(\" \")[-1].lower() == \"g\":\n",
    "        price = price/float(weight.split(\" \")[-2])*1000\n",
    "        weight = \"1 kg\"\n",
    "    elif weight.split(\" \")[-1].lower() == \"kg\":\n",
    "        price = price/float(weight.split(\" \")[-2])\n",
    "        weight = \"1 kg\"\n",
    "    elif weight.split(\" \")[-1].lower() == \"combo\":\n",
    "        continue\n",
    "    final_data.append({\n",
    "        \"name\": product_name,\n",
    "        \"weight\":weight,\n",
    "        \"price\": price,\n",
    "    })\n",
    "print(len(final_data), \"no. of elements stored\")\n",
    "print(final_data)"
   ]
  },
  {
   "cell_type": "code",
   "execution_count": 38,
   "metadata": {},
   "outputs": [
    {
     "name": "stdout",
     "output_type": "stream",
     "text": [
      "04/01/2022\n"
     ]
    }
   ],
   "source": [
    "from openpyxl import Workbook, load_workbook\n",
    "from datetime import date\n",
    "excel_filename= f\"{pincode}.xlsx\"\n",
    "\n",
    "try:\n",
    "    wb = load_workbook(excel_filename)\n",
    "except FileNotFoundError:\n",
    "    wb = Workbook()\n",
    "    wb.save(excel_filename)\n",
    "\n",
    "ws = wb.active\n",
    "maxrow=ws.max_row+1\n",
    "pcol=dcol=ws.max_column+1\n",
    "\n",
    "wcol=pcol+1\n",
    "if dcol>2:\n",
    "    print(ws.cell(row=1, column=dcol-2).value)\n",
    "    if ws.cell(row=1, column=dcol-2).value == date.today().strftime(\"%d/%m/%Y\"):\n",
    "        pcol = pcol - 2\n",
    "        dcol = dcol - 2\n",
    "        wcol = wcol - 2\n",
    "ws.cell(row=1, column=dcol).value = date.today().strftime(\"%d/%m/%Y\")\n",
    "ws.cell(row=2, column=pcol).value = \"Price\"\n",
    "ws.cell(row=2, column=wcol).value = \"Weight/pc(s)\"\n",
    "for index_1, dict in enumerate(final_data):\n",
    "    c=1\n",
    "    for i in range(maxrow-1):\n",
    "        if ws.cell(row=i+1, column=1).value == dict[\"name\"]:\n",
    "            c=0\n",
    "            ws.cell(row=i+1, column=pcol).value = dict[\"price\"]\n",
    "            ws.cell(row=i+1, column=wcol).value = dict[\"weight\"]\n",
    "    if c==1:\n",
    "        print(ws.max_row)\n",
    "        ws.cell(row=ws.max_row+1, column=1).value = dict[\"name\"]\n",
    "        ws.cell(row=ws.max_row, column=pcol).value = dict[\"price\"]\n",
    "        ws.cell(row=ws.max_row, column=wcol).value = dict[\"weight\"]\n",
    "        \n",
    "wb.save(excel_filename)"
   ]
  },
  {
   "cell_type": "code",
   "execution_count": 39,
   "metadata": {},
   "outputs": [
    {
     "name": "stdout",
     "output_type": "stream",
     "text": [
      "range(0, 37)\n"
     ]
    }
   ],
   "source": []
  }
 ],
 "metadata": {
  "interpreter": {
   "hash": "daaa31c8034f1feb794b255046b334f8762dacc75c33e103641e2c034660438a"
  },
  "kernelspec": {
   "display_name": "Python 3.8.10 64-bit ('.venv': pipenv)",
   "language": "python",
   "name": "python3"
  },
  "language_info": {
   "codemirror_mode": {
    "name": "ipython",
    "version": 3
   },
   "file_extension": ".py",
   "mimetype": "text/x-python",
   "name": "python",
   "nbconvert_exporter": "python",
   "pygments_lexer": "ipython3",
   "version": "3.8.10"
  },
  "orig_nbformat": 4
 },
 "nbformat": 4,
 "nbformat_minor": 2
}
